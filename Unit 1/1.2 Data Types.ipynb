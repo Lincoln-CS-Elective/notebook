{
 "cells": [
  {
   "cell_type": "markdown",
   "metadata": {},
   "source": [
    "# 1.2 - 📀 Data Types\n",
    "\n",
    "While solving problems computationally, there are many data types we need to take into account in order to perform certain actions. In fact *computers run on data types*, which makes it all the more imperative to focus on them, what they mean, and how to apply them to real-life scenarios.\n",
    "\n",
    "## 🧪 Core Data Types\n",
    "\n",
    "### `String`\n",
    "\n",
    "### `int` (Integers)\n",
    "\n",
    "### `float`\n",
    "\n",
    "### `Bool` (Boolean)"
   ]
  }
 ],
 "metadata": {
  "kernelspec": {
   "display_name": "Python 3",
   "language": "python",
   "name": "python3"
  },
  "language_info": {
   "codemirror_mode": {
    "name": "ipython",
    "version": 3
   },
   "file_extension": ".py",
   "mimetype": "text/x-python",
   "name": "python",
   "nbconvert_exporter": "python",
   "pygments_lexer": "ipython3",
   "version": "3.8.5"
  }
 },
 "nbformat": 4,
 "nbformat_minor": 4
}
