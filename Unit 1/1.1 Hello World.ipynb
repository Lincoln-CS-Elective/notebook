{
 "cells": [
  {
   "cell_type": "markdown",
   "metadata": {},
   "source": [
    "# 1.1 - Hello World\n",
    "\n",
    "In programming, a \"Hello World\" script is the industry standard for all new programmers to a language to begin experimenting with it. \n",
    "The purpose of the the \"Hello World\" script is to output `Hello World` to the terminal (command line). In Python, \n",
    "this can be achieved with a `print` statement, which will output anything disclosed within its parentheses to the console.\n",
    "\n",
    "Let's see it in action!"
   ]
  },
  {
   "cell_type": "code",
   "execution_count": 2,
   "metadata": {},
   "outputs": [
    {
     "name": "stdout",
     "output_type": "stream",
     "text": [
      "Hello World\n"
     ]
    }
   ],
   "source": [
    "print(\"Hello World\");"
   ]
  },
  {
   "cell_type": "markdown",
   "metadata": {},
   "source": [
    "## Code Analysis & Deconstruction\n",
    "\n",
    "In the statement above, there is a lot more going on behind the scenes than what it looks like.\n",
    "\n",
    "#### 1. The `print` keyword\n",
    "\n",
    "In Python, as well in many other languages, the `print` keyword is what is used to display output to the console. This can be a `string`, as we see in this example, or more complex forms of data, like numbers + math, variables, functions, loops, etc. Really, **nearly anything**.\n",
    "\n",
    "#### 2. `( )`\n",
    "\n",
    "The `print` statement is always followed by a set of parenthesis in the Python programming language. Anything within them is what will be outputted to the console.\n",
    "\n",
    "#### 3. `\"Hello World\"`\n",
    "\n",
    "`\"Hello World\"` is the actual block of code being processed by the compiler (given it is within the `print()` statement. As you may have noticed, it is wrapped by a set of quotes (`\" \"`), which means this is of the `string` data type.\n",
    "\n",
    "We will learn more about types of data in future lessons, but here are some examples:\n",
    "\n",
    "##### Common data types in programming:\n",
    "\n",
    "**String:** (or str or text). Used for a combination of any characters that appear on a keyboard, such as letters, numbers and symbols.\n",
    "\n",
    "**Character:** (or char). Used for single letters.\n",
    "\n",
    "**Integer:** (or int). Used for whole numbers.\n",
    "\n",
    "**Float (or Real):** Used for numbers that contain decimal points, or for fractions.\n",
    "\n",
    "**Boolean (or bool):** Used where data is restricted to True/False or yes/no options.\n",
    "\n",
    "<br />\n",
    "\n",
    "<img width=\"600\" src=\"https://i.ibb.co/s5ddmbJ/Screen-Shot-2020-12-06-at-08-51-15.png\" />"
   ]
  },
  {
   "cell_type": "markdown",
   "metadata": {},
   "source": [
    "## Exercise\n",
    "\n",
    "Now, try it yourself! Print your favorite food 🌯 to the console using Python below. Click the `Run` button in the Jupyter Notebook toolbar to execute your code."
   ]
  },
  {
   "cell_type": "code",
   "execution_count": null,
   "metadata": {},
   "outputs": [],
   "source": []
  }
 ],
 "metadata": {
  "kernelspec": {
   "display_name": "Python 3",
   "language": "python",
   "name": "python3"
  },
  "language_info": {
   "codemirror_mode": {
    "name": "ipython",
    "version": 3
   },
   "file_extension": ".py",
   "mimetype": "text/x-python",
   "name": "python",
   "nbconvert_exporter": "python",
   "pygments_lexer": "ipython3",
   "version": "3.8.5"
  }
 },
 "nbformat": 4,
 "nbformat_minor": 4
}
